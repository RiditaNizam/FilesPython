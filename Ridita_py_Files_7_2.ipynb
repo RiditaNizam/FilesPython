{
  "nbformat": 4,
  "nbformat_minor": 0,
  "metadata": {
    "colab": {
      "name": "Ridita_py_Files_7.2.ipynb",
      "provenance": [],
      "collapsed_sections": [],
      "authorship_tag": "ABX9TyPJEHn7WMQvpDgqntU8Zj9Q",
      "include_colab_link": true
    },
    "kernelspec": {
      "name": "python3",
      "display_name": "Python 3"
    }
  },
  "cells": [
    {
      "cell_type": "markdown",
      "metadata": {
        "id": "view-in-github",
        "colab_type": "text"
      },
      "source": [
        "<a href=\"https://colab.research.google.com/github/RiditaNizam/FilesPython/blob/main/Ridita_py_Files_7_2.ipynb\" target=\"_parent\"><img src=\"https://colab.research.google.com/assets/colab-badge.svg\" alt=\"Open In Colab\"/></a>"
      ]
    },
    {
      "cell_type": "markdown",
      "metadata": {
        "id": "Bvg6CDqpQa9N"
      },
      "source": [
        "7.2 Write a program that prompts for a file name, then opens that file and reads through the file, looking for lines of the form:\n",
        "X-DSPAM-Confidence:    0.8475\n",
        "Count these lines and extract the floating point values from each of the lines and compute the average of those values and produce an output as shown below. Do not use the sum() function or a variable named sum in your solution.\n",
        "You can download the sample data at http://www.py4e.com/code3/mbox-short.txt when you are testing below enter mbox-short.txt as the file name."
      ]
    },
    {
      "cell_type": "code",
      "metadata": {
        "id": "jEIxau9AeAUV"
      },
      "source": [
        "# Use the file name mbox-short.txt as the file name\n",
        "fname = input(\"Enter file name: \")\n",
        "fh = open(fname)\n",
        "\n",
        "# Vars for our figuring average\n",
        "total = 0\n",
        "count = 0\n",
        "\n",
        "for line in fh:\n",
        "    if not line.startswith(\"X-DSPAM-Confidence:\"):\n",
        "      continue\n",
        "    finder = line.find(':')\n",
        "    numfloat = float(line[finder+1:].lstrip())\n",
        "\n",
        "    count +=1\n",
        "    total += numfloat\n",
        "\n",
        "average = total / count\n",
        "print(\"Average spam confidence:\", average)"
      ],
      "execution_count": null,
      "outputs": []
    }
  ]
}